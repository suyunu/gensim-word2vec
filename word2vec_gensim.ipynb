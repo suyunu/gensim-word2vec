{
 "cells": [
  {
   "cell_type": "code",
   "execution_count": 1,
   "metadata": {
    "id": "_azUgusbc-Ru"
   },
   "outputs": [],
   "source": [
    "from gensim.models import Word2Vec\n",
    "from gensim.utils import tokenize\n",
    "import re\n",
    "from gensim.models.callbacks import CallbackAny2Vec\n",
    "import time\n",
    "\n",
    "import numpy as np\n",
    "import pandas as pd\n",
    "import matplotlib.pyplot as plt\n",
    "%matplotlib inline\n",
    " \n",
    "import seaborn as sns\n",
    "sns.set_style(\"darkgrid\")\n",
    "\n",
    "from sklearn.decomposition import PCA"
   ]
  },
  {
   "cell_type": "code",
   "execution_count": 2,
   "metadata": {
    "id": "iTvMB4lO4jJ4"
   },
   "outputs": [],
   "source": [
    "class callback(CallbackAny2Vec):\n",
    "    '''Callback to print loss after each epoch.'''\n",
    "\n",
    "    def __init__(self):\n",
    "        self.epoch = 0\n",
    "        self.last_loss = 0\n",
    "        self.stime = time.time()\n",
    "\n",
    "    def on_epoch_start(self, model):\n",
    "        self.stime = time.time()\n",
    "\n",
    "    def on_epoch_end(self, model):\n",
    "        loss = model.get_latest_training_loss()\n",
    "        print('Loss after epoch {}: {} \\t Epoch Time: {}'.format(self.epoch, loss-self.last_loss, time.time()-self.stime))\n",
    "        self.last_loss = loss\n",
    "        self.epoch += 1"
   ]
  },
  {
   "cell_type": "code",
   "execution_count": 3,
   "metadata": {
    "id": "Ec0CLW9h2GLp"
   },
   "outputs": [],
   "source": [
    "sentences = []\n",
    "for line in open('Turkish Corpus.tr', encoding='UTF-8'):\n",
    "  sentences.append(list(tokenize(line, to_lower=True)))"
   ]
  },
  {
   "cell_type": "code",
   "execution_count": 4,
   "metadata": {
    "colab": {
     "base_uri": "https://localhost:8080/"
    },
    "id": "Vst2kDmex2fY",
    "outputId": "f02fa1a9-811a-4030-ecc7-966bdbce67df"
   },
   "outputs": [
    {
     "name": "stdout",
     "output_type": "stream",
     "text": [
      "Loss after epoch 0: 10992873.0 \t Epoch Time: 21.75088906288147\n",
      "Loss after epoch 1: 8077323.0 \t Epoch Time: 30.665725231170654\n",
      "Loss after epoch 2: 7151930.0 \t Epoch Time: 39.349472761154175\n",
      "Loss after epoch 3: 7022128.0 \t Epoch Time: 49.07723093032837\n",
      "Loss after epoch 4: 4263234.0 \t Epoch Time: 58.465147495269775\n",
      "Loss after epoch 5: 3946644.0 \t Epoch Time: 67.56579494476318\n",
      "Loss after epoch 6: 3806624.0 \t Epoch Time: 79.72032356262207\n",
      "Loss after epoch 7: 3840568.0 \t Epoch Time: 92.2568244934082\n",
      "Loss after epoch 8: 3713464.0 \t Epoch Time: 104.48511815071106\n",
      "Loss after epoch 9: 3832876.0 \t Epoch Time: 117.04851794242859\n",
      "48751\n"
     ]
    }
   ],
   "source": [
    "model = Word2Vec(sentences, sg=1, min_count=5, window=7, size=100, iter=10, compute_loss=True, callbacks=[callback()])\n",
    "print(len(model.wv.vocab))"
   ]
  },
  {
   "cell_type": "code",
   "execution_count": 5,
   "metadata": {
    "colab": {
     "base_uri": "https://localhost:8080/"
    },
    "id": "nbq8Mukgs9_J",
    "outputId": "4c991f82-2b00-4972-a0b6-e59120cfa4e2"
   },
   "outputs": [
    {
     "name": "stdout",
     "output_type": "stream",
     "text": [
      "Word similarities\n",
      "saatlerce dakikalarca 6.583 0.6182829\n",
      "yürüdüm koştum 6.111 0.7835391\n",
      "geldiklerinde gittiklerinde 6.389 0.5526105\n",
      "okudular yazdılar 5.778 0.60712576\n",
      "yıllardır saatlerdir 5.139 0.2625236\n",
      "yazıyorlardı okuyorlardı 5.417 0.71643674\n",
      "koltuklar sandalyeler 6.417 0.8110184\n",
      "bilgisayarların perdelerin 1.444 0.37147665\n",
      "kedilerin kuşların 5.000 0.5896014\n",
      "camları pencereleri 7.793 0.70276725\n",
      "yıldızın güneşin 6.103 0.48755255\n",
      "emretti buyurdu 9.069 0.5879028\n",
      "yıktı yıkadı 1.690 0.32550314\n",
      "yedikten içtikten 5.840 0.7008087\n",
      "konuştular söylediler 8.000 0.3970453\n",
      "çalıştılar yaklaştılar 2.000 0.4387237\n",
      "açtılar kapattılar 6.480 0.68134683\n",
      "yarasanın yasanın 1.240 0.5535815\n",
      "doktorların öğretmenlerin 4.280 0.3895262\n",
      "mühendisler doktorlar 4.840 0.38762647\n",
      "içtiler kestiler 1.720 0.5950306\n",
      "kapıların pencerelerin 5.320 0.8462132\n",
      "başardı yakardı 1.400 0.37243387\n",
      "ailelerin kalelerin 1.440 0.25943696\n",
      "kızların erkeklerin 6.680 0.6508859\n",
      "yaparken sayarken 2.440 0.3696586\n",
      "derslerde sınıflarda 6.920 0.69947565\n",
      "merdivenleri eldivenleri 1.360 0.4429527\n",
      "\n",
      "0.544819926080825 0.5599343185550082 28\n"
     ]
    }
   ],
   "source": [
    "print(\"Word similarities\")\n",
    "words_sims = []\n",
    "human_sims = []\n",
    "w2v_sims = []\n",
    "with open('Word Similarity.txt', 'r', encoding='UTF-8') as reader:\n",
    "  for line in reader.readlines():\n",
    "    try:\n",
    "      w1, w2, sim, _ = re.split(':|\\t|\\n',line)\n",
    "      print(w1, w2, sim, model.wv.similarity(w1,w2))\n",
    "      w2v_sims.append(model.wv.similarity(w1,w2))\n",
    "      words_sims.append((w1,w2))\n",
    "      human_sims.append(float(sim))\n",
    "    except:\n",
    "      continue\n",
    "human_sims = np.array(human_sims)\n",
    "w2v_sims = np.array(w2v_sims)\n",
    "w2v_sims_proj = w2v_sims*10\n",
    "\n",
    "print()\n",
    "s1 = pd.Series(human_sims)\n",
    "s2 = pd.Series(w2v_sims)\n",
    "print(s1.corr(s2, method='pearson'), s1.corr(s2, method='spearman'), len(words_sims))"
   ]
  },
  {
   "cell_type": "code",
   "execution_count": 6,
   "metadata": {},
   "outputs": [
    {
     "name": "stdout",
     "output_type": "stream",
     "text": [
      "Word analogies\n",
      "0.07792207792207792 6 71\n",
      "[('verdi', 'verdiniz', 'aldı', 'aldınız'), ('kitaplar', 'kitapların', 'gerçekler', 'gerçeklerin'), ('bir', 'birinci', 'iki', 'ikinci'), ('bir', 'birinci', 'üç', 'üçüncü'), ('giderim', 'gidersin', 'kalırım', 'kalırsın'), ('düşünürsün', 'düşünürüz', 'gidersin', 'gideriz')]\n"
     ]
    }
   ],
   "source": [
    "print(\"Word analogies\")\n",
    "correct_ana = []\n",
    "incorrect_ana = []\n",
    "with open('Analogy.txt', 'r', encoding='UTF-8') as reader:\n",
    "    for line in reader.readlines():\n",
    "        try:\n",
    "            w11, w12, w21, w22 = line.split()\n",
    "            if model.wv.vocab[w22] and model.wv.most_similar(positive=[w12, w21], negative=[w11])[0][0] == w22:\n",
    "                correct_ana.append((w11, w12, w21, w22))\n",
    "            else:\n",
    "                incorrect_ana.append((w11, w12, w21, w22))\n",
    "        except:\n",
    "            continue\n",
    "\n",
    "print(len(correct_ana)/(len(correct_ana)+len(incorrect_ana)), len(correct_ana), len(incorrect_ana))\n",
    "print(correct_ana)\n",
    "\n",
    "\n",
    "# aa = model.wv.evaluate_word_analogies('Analogy.txt', case_insensitive=False)\n",
    "# print(aa[0], len(aa[1][0]['correct']), len(aa[1][0]['incorrect']))\n",
    "# print(aa[1][0]['correct'])"
   ]
  },
  {
   "cell_type": "code",
   "execution_count": 7,
   "metadata": {
    "id": "k_R1V_mGDNC2"
   },
   "outputs": [],
   "source": [
    "# https://www.kaggle.com/pierremegret/gensim-word2vec-tutorial\n",
    "def psa_word2vec_similar_plot(model, word):\n",
    "    arrays = np.empty((0, model.vector_size), dtype='f')\n",
    "    word_labels = [word]\n",
    "    color_list  = ['red']\n",
    "\n",
    "    # adds the vector of the query word\n",
    "    arrays = np.append(arrays, model.wv.__getitem__([word]), axis=0)\n",
    "    \n",
    "    # gets list of most similar words\n",
    "    close_words = model.wv.most_similar([word])\n",
    "    \n",
    "    # adds the vector for each of the closest words to the array\n",
    "    for wrd_score in close_words:\n",
    "        wrd_vector = model.wv.__getitem__([wrd_score[0]])\n",
    "        word_labels.append(wrd_score[0])\n",
    "        color_list.append('blue')\n",
    "        arrays = np.append(arrays, wrd_vector, axis=0)\n",
    "        \n",
    "\n",
    "    Y = PCA().fit_transform(arrays)[:,:2]\n",
    "    \n",
    "    # Sets everything up to plot\n",
    "    df = pd.DataFrame({'x': [x for x in Y[:, 0]],\n",
    "                       'y': [y for y in Y[:, 1]],\n",
    "                       'words': word_labels,\n",
    "                       'color': color_list})\n",
    "    \n",
    "    fig, _ = plt.subplots()\n",
    "    fig.set_size_inches(9, 9)\n",
    "    \n",
    "    # Basic plot\n",
    "    p1 = sns.regplot(data=df,\n",
    "                     x=\"x\",\n",
    "                     y=\"y\",\n",
    "                     fit_reg=False,\n",
    "                     marker=\"o\",\n",
    "                     scatter_kws={'s': 40,\n",
    "                                  'facecolors': df['color']\n",
    "                                 }\n",
    "                    )\n",
    "    \n",
    "    # Adds annotations one by one with a loop\n",
    "    for line in range(0, df.shape[0]):\n",
    "         p1.text(df[\"x\"][line],\n",
    "                 df['y'][line],\n",
    "                 '  ' + df[\"words\"][line],\n",
    "                 horizontalalignment='left',\n",
    "                 verticalalignment='bottom', size='medium',\n",
    "                 color=df['color'][line],\n",
    "                 weight='normal'\n",
    "                ).set_size(15)\n",
    "\n",
    "    \n",
    "    plt.xlim(Y[:, 0].min()-0.5, Y[:, 0].max()+0.5)\n",
    "    plt.ylim(Y[:, 1].min()-0.5, Y[:, 1].max()+0.5)\n",
    "            \n",
    "    plt.title('PCA similarity visualization for {}'.format(word))\n",
    "    #plt.savefig(\"pca_sim.pdf\", bbox_inches='tight')"
   ]
  },
  {
   "cell_type": "code",
   "execution_count": 8,
   "metadata": {
    "colab": {
     "base_uri": "https://localhost:8080/",
     "height": 568
    },
    "id": "p7PupLUZDOkB",
    "outputId": "ee9a222b-fe10-4264-89ef-cb52ad1780cd"
   },
   "outputs": [
    {
     "data": {
      "image/png": "[encoded data removed]",
      "text/plain": [
       "<Figure size 648x648 with 1 Axes>"
      ]
     },
     "metadata": {},
     "output_type": "display_data"
    }
   ],
   "source": [
    "psa_word2vec_similar_plot(model, 'üç')"
   ]
  },
  {
   "cell_type": "code",
   "execution_count": 9,
   "metadata": {},
   "outputs": [],
   "source": [
    "all_colors = ['red', 'blue', 'black', 'magenta', 'orange']\n",
    "\n",
    "def display_pca_scatterplot(model, analogies):\n",
    "    arrays = np.empty((0, model.vector_size), dtype='f')\n",
    "    word_labels = []\n",
    "    color_list  = []\n",
    "    \n",
    "    # adds the vector for each of the words from list_names to the array\n",
    "#     for wrd in words:\n",
    "#         wrd_vector = model.wv.__getitem__([wrd])\n",
    "#         word_labels.append(wrd)\n",
    "#         color_list.append('blue')\n",
    "#         arrays = np.append(arrays, wrd_vector, axis=0)\n",
    "        \n",
    "    for cid, ana in enumerate(analogies):   \n",
    "        for wrd in ana:\n",
    "            wrd_vector = model.wv.__getitem__([wrd])\n",
    "            word_labels.append(wrd)\n",
    "            color_list.append(all_colors[cid])\n",
    "            arrays = np.append(arrays, wrd_vector, axis=0)\n",
    "    \n",
    "    # Finds t-SNE coordinates for 2 dimensions\n",
    "    np.set_printoptions(suppress=True)\n",
    "    \n",
    "    Y = PCA().fit_transform(arrays)[:,:2]\n",
    "    \n",
    "    # Sets everything up to plot\n",
    "    df = pd.DataFrame({'x': [x for x in Y[:, 0]],\n",
    "                       'y': [y for y in Y[:, 1]],\n",
    "                       'words': word_labels,\n",
    "                       'color': color_list})\n",
    "    \n",
    "    fig, _ = plt.subplots()\n",
    "    fig.set_size_inches(9, 9)\n",
    "    \n",
    "    # Basic plot\n",
    "    p1 = sns.regplot(data=df,\n",
    "                     x=\"x\",\n",
    "                     y=\"y\",\n",
    "                     fit_reg=False,\n",
    "                     marker=\"o\",\n",
    "                     scatter_kws={'s': 40,\n",
    "                                  'facecolors': df['color']\n",
    "                                 }\n",
    "                    )\n",
    "    \n",
    "    # Adds annotations one by one with a loop\n",
    "    for line in range(0, df.shape[0]):\n",
    "         p1.text(df[\"x\"][line],\n",
    "                 df['y'][line],\n",
    "                 '  ' + df[\"words\"][line].title(),\n",
    "                 horizontalalignment='left',\n",
    "                 verticalalignment='bottom', size='medium',\n",
    "                 color=df['color'][line],\n",
    "                 weight='normal'\n",
    "                ).set_size(15)\n",
    "\n",
    "    \n",
    "    plt.xlim(Y[:, 0].min()-0.5, Y[:, 0].max()+0.5)\n",
    "    plt.ylim(Y[:, 1].min()-0.5, Y[:, 1].max()+0.5)\n",
    "            \n",
    "    plt.title('PCA visualization of Analogies')\n",
    "    #plt.savefig(\"pca_ana.pdf\", bbox_inches='tight')"
   ]
  },
  {
   "cell_type": "code",
   "execution_count": 17,
   "metadata": {},
   "outputs": [
    {
     "data": {
      "text/plain": [
       "[('verdi', 'verdiniz', 'aldı', 'aldınız'),\n",
       " ('kitaplar', 'kitapların', 'gerçekler', 'gerçeklerin'),\n",
       " ('bir', 'birinci', 'iki', 'ikinci'),\n",
       " ('bir', 'birinci', 'üç', 'üçüncü'),\n",
       " ('giderim', 'gidersin', 'kalırım', 'kalırsın'),\n",
       " ('düşünürsün', 'düşünürüz', 'gidersin', 'gideriz')]"
      ]
     },
     "execution_count": 17,
     "metadata": {},
     "output_type": "execute_result"
    }
   ],
   "source": [
    "correct_ana"
   ]
  },
  {
   "cell_type": "code",
   "execution_count": 30,
   "metadata": {},
   "outputs": [
    {
     "data": {
      "image/png": "[encoded data removed]",
      "text/plain": [
       "<Figure size 648x648 with 1 Axes>"
      ]
     },
     "metadata": {},
     "output_type": "display_data"
    }
   ],
   "source": [
    "display_pca_scatterplot(model, [correct_ana[0],correct_ana[1],correct_ana[2],correct_ana[5]])"
   ]
  }
 ],
 "metadata": {
  "colab": {
   "collapsed_sections": [],
   "name": "CmpE58T-Midterm.ipynb",
   "provenance": []
  },
  "kernelspec": {
   "display_name": "Python 3",
   "language": "python",
   "name": "python3"
  },
  "language_info": {
   "codemirror_mode": {
    "name": "ipython",
    "version": 3
   },
   "file_extension": ".py",
   "mimetype": "text/x-python",
   "name": "python",
   "nbconvert_exporter": "python",
   "pygments_lexer": "ipython3",
   "version": "3.8.5"
  }
 },
 "nbformat": 4,
 "nbformat_minor": 4
}
